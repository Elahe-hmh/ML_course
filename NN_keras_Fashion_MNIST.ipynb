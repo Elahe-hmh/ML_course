{
  "nbformat": 4,
  "nbformat_minor": 0,
  "metadata": {
    "colab": {
      "name": "NN keras_Fashion MNIST.ipynb",
      "provenance": [],
      "collapsed_sections": [],
      "authorship_tag": "ABX9TyNkLUGGRJYNm560Th9Bne5w",
      "include_colab_link": true
    },
    "kernelspec": {
      "name": "python3",
      "display_name": "Python 3"
    },
    "accelerator": "GPU"
  },
  "cells": [
    {
      "cell_type": "markdown",
      "metadata": {
        "id": "view-in-github",
        "colab_type": "text"
      },
      "source": [
        "<a href=\"https://colab.research.google.com/github/Elahe-hmh/ML_course/blob/master/NN_keras_Fashion_MNIST.ipynb\" target=\"_parent\"><img src=\"https://colab.research.google.com/assets/colab-badge.svg\" alt=\"Open In Colab\"/></a>"
      ]
    },
    {
      "cell_type": "markdown",
      "metadata": {
        "id": "4Zt_eg375-sX",
        "colab_type": "text"
      },
      "source": [
        "### classification MLP(Multi Layer Perceptron)\n",
        "\n",
        "---\n",
        "\n",
        "\n",
        "\n",
        "\n",
        "\n"
      ]
    },
    {
      "cell_type": "markdown",
      "metadata": {
        "id": "nvrFjX9GlWGf",
        "colab_type": "text"
      },
      "source": [
        "## **Fashion MNIST**"
      ]
    },
    {
      "cell_type": "code",
      "metadata": {
        "id": "kNFfZKpYj-aN",
        "colab_type": "code",
        "colab": {}
      },
      "source": [
        "import tensorflow as tf\n",
        "from tensorflow import keras\n",
        "import numpy as np"
      ],
      "execution_count": 0,
      "outputs": []
    },
    {
      "cell_type": "code",
      "metadata": {
        "id": "kjtvZKnTkADq",
        "colab_type": "code",
        "colab": {}
      },
      "source": [
        "fashion_mnist = keras.datasets.fashion_mnist\n",
        "(X_train_full, y_train_full), (X_test, y_test) = fashion_mnist.load_data()"
      ],
      "execution_count": 0,
      "outputs": []
    },
    {
      "cell_type": "code",
      "metadata": {
        "id": "l7RouQuTkD73",
        "colab_type": "code",
        "colab": {
          "base_uri": "https://localhost:8080/",
          "height": 34
        },
        "outputId": "ee9a5066-06e0-4e72-a6b1-4d17663f6f9b"
      },
      "source": [
        "X_train_full.shape , X_train_full.dtype"
      ],
      "execution_count": 10,
      "outputs": [
        {
          "output_type": "execute_result",
          "data": {
            "text/plain": [
              "((60000, 28, 28), dtype('uint8'))"
            ]
          },
          "metadata": {
            "tags": []
          },
          "execution_count": 10
        }
      ]
    },
    {
      "cell_type": "code",
      "metadata": {
        "id": "RJ2MSNHzkXfm",
        "colab_type": "code",
        "colab": {
          "base_uri": "https://localhost:8080/",
          "height": 34
        },
        "outputId": "12516120-289d-46c6-ece4-ababaef873d7"
      },
      "source": [
        "X_test.shape"
      ],
      "execution_count": 9,
      "outputs": [
        {
          "output_type": "execute_result",
          "data": {
            "text/plain": [
              "(10000, 28, 28)"
            ]
          },
          "metadata": {
            "tags": []
          },
          "execution_count": 9
        }
      ]
    },
    {
      "cell_type": "code",
      "metadata": {
        "id": "KUFrAWErl9F_",
        "colab_type": "code",
        "colab": {
          "base_uri": "https://localhost:8080/",
          "height": 34
        },
        "outputId": "7ed4b5bf-3377-44ea-b2cf-468ce90d0110"
      },
      "source": [
        "len(X_train_full[0][0])"
      ],
      "execution_count": 13,
      "outputs": [
        {
          "output_type": "execute_result",
          "data": {
            "text/plain": [
              "28"
            ]
          },
          "metadata": {
            "tags": []
          },
          "execution_count": 13
        }
      ]
    },
    {
      "cell_type": "markdown",
      "metadata": {
        "id": "qtw4URWrlbYd",
        "colab_type": "text"
      },
      "source": [
        "**making validation data & scale the input features**"
      ]
    },
    {
      "cell_type": "code",
      "metadata": {
        "id": "pgJW4Rggkl2G",
        "colab_type": "code",
        "colab": {}
      },
      "source": [
        "X_valid, X_train = X_train_full[:5000] / 255.0, X_train_full[5000:] / 255.0\n",
        "\n",
        "y_valid, y_train = y_train_full[:5000], y_train_full[5000:]\n"
      ],
      "execution_count": 0,
      "outputs": []
    },
    {
      "cell_type": "code",
      "metadata": {
        "id": "lF5-vI_Pmbkr",
        "colab_type": "code",
        "colab": {
          "base_uri": "https://localhost:8080/",
          "height": 34
        },
        "outputId": "abcb3faa-afcb-4efc-866f-e5fc68f35c48"
      },
      "source": [
        "y_train[0]"
      ],
      "execution_count": 15,
      "outputs": [
        {
          "output_type": "execute_result",
          "data": {
            "text/plain": [
              "4"
            ]
          },
          "metadata": {
            "tags": []
          },
          "execution_count": 15
        }
      ]
    },
    {
      "cell_type": "code",
      "metadata": {
        "id": "vexPWFddmRak",
        "colab_type": "code",
        "colab": {}
      },
      "source": [
        "class_names = [\"T-shirt/top\", \"Trouser\", \"Pullover\", \"Dress\", \"Coat\",\n",
        "\"Sandal\", \"Shirt\", \"Sneaker\", \"Bag\", \"Ankle boot\"]"
      ],
      "execution_count": 0,
      "outputs": []
    },
    {
      "cell_type": "code",
      "metadata": {
        "id": "NV4ivuqNmgBr",
        "colab_type": "code",
        "colab": {
          "base_uri": "https://localhost:8080/",
          "height": 34
        },
        "outputId": "94f4d711-d0e2-4563-cf39-9eaed34f2138"
      },
      "source": [
        "class_names[y_train[0]]"
      ],
      "execution_count": 17,
      "outputs": [
        {
          "output_type": "execute_result",
          "data": {
            "text/plain": [
              "'Coat'"
            ]
          },
          "metadata": {
            "tags": []
          },
          "execution_count": 17
        }
      ]
    },
    {
      "cell_type": "markdown",
      "metadata": {
        "id": "-gGUWfPXmwxZ",
        "colab_type": "text"
      },
      "source": [
        "**Creating the model using the Sequential API**\n",
        "\n",
        "let’s build the neural network!"
      ]
    },
    {
      "cell_type": "code",
      "metadata": {
        "id": "qG1Wbb_5mqFf",
        "colab_type": "code",
        "colab": {}
      },
      "source": [
        "model = keras.models.Sequential()\n",
        "model.add(keras.layers.Flatten(input_shape=[28, 28]))\n",
        "model.add(keras.layers.Dense(300, activation=\"relu\"))\n",
        "model.add(keras.layers.Dense(100, activation=\"relu\"))\n",
        "model.add(keras.layers.Dense(10, activation=\"softmax\"))"
      ],
      "execution_count": 0,
      "outputs": []
    },
    {
      "cell_type": "code",
      "metadata": {
        "id": "XMrJha_7nAbC",
        "colab_type": "code",
        "colab": {
          "base_uri": "https://localhost:8080/",
          "height": 295
        },
        "outputId": "e38f89a0-7e29-4338-94e7-764198394871"
      },
      "source": [
        "model.summary()"
      ],
      "execution_count": 19,
      "outputs": [
        {
          "output_type": "stream",
          "text": [
            "Model: \"sequential\"\n",
            "_________________________________________________________________\n",
            "Layer (type)                 Output Shape              Param #   \n",
            "=================================================================\n",
            "flatten (Flatten)            (None, 784)               0         \n",
            "_________________________________________________________________\n",
            "dense (Dense)                (None, 300)               235500    \n",
            "_________________________________________________________________\n",
            "dense_1 (Dense)              (None, 100)               30100     \n",
            "_________________________________________________________________\n",
            "dense_2 (Dense)              (None, 10)                1010      \n",
            "=================================================================\n",
            "Total params: 266,610\n",
            "Trainable params: 266,610\n",
            "Non-trainable params: 0\n",
            "_________________________________________________________________\n"
          ],
          "name": "stdout"
        }
      ]
    },
    {
      "cell_type": "code",
      "metadata": {
        "id": "sgVLp9lnojjQ",
        "colab_type": "code",
        "colab": {
          "base_uri": "https://localhost:8080/",
          "height": 86
        },
        "outputId": "a32c0d5b-a0dd-4197-b312-624e803bebff"
      },
      "source": [
        "model.layers"
      ],
      "execution_count": 20,
      "outputs": [
        {
          "output_type": "execute_result",
          "data": {
            "text/plain": [
              "[<tensorflow.python.keras.layers.core.Flatten at 0x7f66906e6320>,\n",
              " <tensorflow.python.keras.layers.core.Dense at 0x7f66906e5f98>,\n",
              " <tensorflow.python.keras.layers.core.Dense at 0x7f66906e5048>,\n",
              " <tensorflow.python.keras.layers.core.Dense at 0x7f6691079a58>]"
            ]
          },
          "metadata": {
            "tags": []
          },
          "execution_count": 20
        }
      ]
    },
    {
      "cell_type": "code",
      "metadata": {
        "id": "s7mxbaWapCPH",
        "colab_type": "code",
        "colab": {}
      },
      "source": [
        "hidden1 = model.layers[1]"
      ],
      "execution_count": 0,
      "outputs": []
    },
    {
      "cell_type": "code",
      "metadata": {
        "id": "qY9Un6oSpZ1A",
        "colab_type": "code",
        "colab": {}
      },
      "source": [
        "weights, biases = hidden1.get_weights()"
      ],
      "execution_count": 0,
      "outputs": []
    },
    {
      "cell_type": "code",
      "metadata": {
        "id": "gxESd1vRpfCb",
        "colab_type": "code",
        "colab": {
          "base_uri": "https://localhost:8080/",
          "height": 34
        },
        "outputId": "85f28a5e-1e9e-49b0-cd15-9187c54e23ad"
      },
      "source": [
        "len(weights),weights.shape"
      ],
      "execution_count": 37,
      "outputs": [
        {
          "output_type": "execute_result",
          "data": {
            "text/plain": [
              "(784, (784, 300))"
            ]
          },
          "metadata": {
            "tags": []
          },
          "execution_count": 37
        }
      ]
    },
    {
      "cell_type": "code",
      "metadata": {
        "id": "SPeFIZ5ppgWH",
        "colab_type": "code",
        "colab": {
          "base_uri": "https://localhost:8080/",
          "height": 34
        },
        "outputId": "ec66af5a-0c4d-42ec-b8de-a6c2b187fd6a"
      },
      "source": [
        "len(biases),biases.shape"
      ],
      "execution_count": 38,
      "outputs": [
        {
          "output_type": "execute_result",
          "data": {
            "text/plain": [
              "(300, (300,))"
            ]
          },
          "metadata": {
            "tags": []
          },
          "execution_count": 38
        }
      ]
    },
    {
      "cell_type": "code",
      "metadata": {
        "id": "j4a_gKE1ph6C",
        "colab_type": "code",
        "colab": {}
      },
      "source": [
        "model.compile(loss=\"sparse_categorical_crossentropy\",\n",
        "optimizer=\"sgd\",\n",
        "metrics=[\"accuracy\"])"
      ],
      "execution_count": 0,
      "outputs": []
    },
    {
      "cell_type": "markdown",
      "metadata": {
        "id": "LGPKdIh7r9ps",
        "colab_type": "text"
      },
      "source": [
        "**Training model**"
      ]
    },
    {
      "cell_type": "code",
      "metadata": {
        "id": "izIsC9ENqgDc",
        "colab_type": "code",
        "colab": {
          "base_uri": "https://localhost:8080/",
          "height": 1000
        },
        "outputId": "dba8f514-cdf9-45ef-d7fd-99b12fcf7387"
      },
      "source": [
        "history = model.fit(X_train, y_train, epochs=30,\n",
        "... validation_data=(X_valid, y_valid))"
      ],
      "execution_count": 40,
      "outputs": [
        {
          "output_type": "stream",
          "text": [
            "Epoch 1/30\n",
            "1719/1719 [==============================] - 4s 2ms/step - loss: 0.7236 - accuracy: 0.7663 - val_loss: 0.5168 - val_accuracy: 0.8248\n",
            "Epoch 2/30\n",
            "1719/1719 [==============================] - 4s 2ms/step - loss: 0.4893 - accuracy: 0.8301 - val_loss: 0.4478 - val_accuracy: 0.8512\n",
            "Epoch 3/30\n",
            "1719/1719 [==============================] - 4s 2ms/step - loss: 0.4441 - accuracy: 0.8436 - val_loss: 0.4164 - val_accuracy: 0.8588\n",
            "Epoch 4/30\n",
            "1719/1719 [==============================] - 4s 2ms/step - loss: 0.4164 - accuracy: 0.8537 - val_loss: 0.3969 - val_accuracy: 0.8686\n",
            "Epoch 5/30\n",
            "1719/1719 [==============================] - 4s 2ms/step - loss: 0.3980 - accuracy: 0.8600 - val_loss: 0.3818 - val_accuracy: 0.8690\n",
            "Epoch 6/30\n",
            "1719/1719 [==============================] - 4s 2ms/step - loss: 0.3810 - accuracy: 0.8650 - val_loss: 0.3780 - val_accuracy: 0.8686\n",
            "Epoch 7/30\n",
            "1719/1719 [==============================] - 4s 2ms/step - loss: 0.3679 - accuracy: 0.8703 - val_loss: 0.3743 - val_accuracy: 0.8716\n",
            "Epoch 8/30\n",
            "1719/1719 [==============================] - 4s 2ms/step - loss: 0.3557 - accuracy: 0.8747 - val_loss: 0.3569 - val_accuracy: 0.8794\n",
            "Epoch 9/30\n",
            "1719/1719 [==============================] - 4s 2ms/step - loss: 0.3464 - accuracy: 0.8768 - val_loss: 0.3535 - val_accuracy: 0.8756\n",
            "Epoch 10/30\n",
            "1719/1719 [==============================] - 4s 2ms/step - loss: 0.3377 - accuracy: 0.8791 - val_loss: 0.3484 - val_accuracy: 0.8750\n",
            "Epoch 11/30\n",
            "1719/1719 [==============================] - 4s 2ms/step - loss: 0.3282 - accuracy: 0.8824 - val_loss: 0.3437 - val_accuracy: 0.8806\n",
            "Epoch 12/30\n",
            "1719/1719 [==============================] - 4s 2ms/step - loss: 0.3205 - accuracy: 0.8860 - val_loss: 0.3420 - val_accuracy: 0.8828\n",
            "Epoch 13/30\n",
            "1719/1719 [==============================] - 4s 2ms/step - loss: 0.3121 - accuracy: 0.8879 - val_loss: 0.3337 - val_accuracy: 0.8828\n",
            "Epoch 14/30\n",
            "1719/1719 [==============================] - 4s 2ms/step - loss: 0.3058 - accuracy: 0.8906 - val_loss: 0.3581 - val_accuracy: 0.8714\n",
            "Epoch 15/30\n",
            "1719/1719 [==============================] - 4s 2ms/step - loss: 0.2988 - accuracy: 0.8939 - val_loss: 0.3274 - val_accuracy: 0.8820\n",
            "Epoch 16/30\n",
            "1719/1719 [==============================] - 4s 2ms/step - loss: 0.2928 - accuracy: 0.8960 - val_loss: 0.3180 - val_accuracy: 0.8844\n",
            "Epoch 17/30\n",
            "1719/1719 [==============================] - 4s 2ms/step - loss: 0.2876 - accuracy: 0.8958 - val_loss: 0.3235 - val_accuracy: 0.8876\n",
            "Epoch 18/30\n",
            "1719/1719 [==============================] - 4s 2ms/step - loss: 0.2821 - accuracy: 0.8988 - val_loss: 0.3247 - val_accuracy: 0.8854\n",
            "Epoch 19/30\n",
            "1719/1719 [==============================] - 4s 2ms/step - loss: 0.2774 - accuracy: 0.8998 - val_loss: 0.3185 - val_accuracy: 0.8878\n",
            "Epoch 20/30\n",
            "1719/1719 [==============================] - 4s 2ms/step - loss: 0.2716 - accuracy: 0.9014 - val_loss: 0.3244 - val_accuracy: 0.8840\n",
            "Epoch 21/30\n",
            "1719/1719 [==============================] - 4s 2ms/step - loss: 0.2666 - accuracy: 0.9039 - val_loss: 0.3109 - val_accuracy: 0.8878\n",
            "Epoch 22/30\n",
            "1719/1719 [==============================] - 4s 2ms/step - loss: 0.2617 - accuracy: 0.9047 - val_loss: 0.3055 - val_accuracy: 0.8896\n",
            "Epoch 23/30\n",
            "1719/1719 [==============================] - 4s 2ms/step - loss: 0.2568 - accuracy: 0.9065 - val_loss: 0.3264 - val_accuracy: 0.8796\n",
            "Epoch 24/30\n",
            "1719/1719 [==============================] - 4s 2ms/step - loss: 0.2529 - accuracy: 0.9079 - val_loss: 0.3077 - val_accuracy: 0.8898\n",
            "Epoch 25/30\n",
            "1719/1719 [==============================] - 4s 2ms/step - loss: 0.2486 - accuracy: 0.9106 - val_loss: 0.3297 - val_accuracy: 0.8784\n",
            "Epoch 26/30\n",
            "1719/1719 [==============================] - 4s 2ms/step - loss: 0.2449 - accuracy: 0.9113 - val_loss: 0.3021 - val_accuracy: 0.8910\n",
            "Epoch 27/30\n",
            "1719/1719 [==============================] - 4s 2ms/step - loss: 0.2397 - accuracy: 0.9129 - val_loss: 0.3039 - val_accuracy: 0.8894\n",
            "Epoch 28/30\n",
            "1719/1719 [==============================] - 4s 2ms/step - loss: 0.2373 - accuracy: 0.9146 - val_loss: 0.2952 - val_accuracy: 0.8902\n",
            "Epoch 29/30\n",
            "1719/1719 [==============================] - 4s 2ms/step - loss: 0.2332 - accuracy: 0.9148 - val_loss: 0.2986 - val_accuracy: 0.8870\n",
            "Epoch 30/30\n",
            "1719/1719 [==============================] - 4s 2ms/step - loss: 0.2286 - accuracy: 0.9178 - val_loss: 0.3002 - val_accuracy: 0.8874\n"
          ],
          "name": "stdout"
        }
      ]
    },
    {
      "cell_type": "code",
      "metadata": {
        "id": "UfFCgxQJsJPv",
        "colab_type": "code",
        "colab": {
          "base_uri": "https://localhost:8080/",
          "height": 34
        },
        "outputId": "6fbcd4cf-7036-4b56-9860-c4f45d748ed8"
      },
      "source": [
        "history.params"
      ],
      "execution_count": 41,
      "outputs": [
        {
          "output_type": "execute_result",
          "data": {
            "text/plain": [
              "{'epochs': 30, 'steps': 1719, 'verbose': 1}"
            ]
          },
          "metadata": {
            "tags": []
          },
          "execution_count": 41
        }
      ]
    },
    {
      "cell_type": "code",
      "metadata": {
        "id": "NMOh5hBUuMab",
        "colab_type": "code",
        "colab": {
          "base_uri": "https://localhost:8080/",
          "height": 1000
        },
        "outputId": "a12145b3-37be-4d85-9aeb-74095f1f51ef"
      },
      "source": [
        "history.history"
      ],
      "execution_count": 43,
      "outputs": [
        {
          "output_type": "execute_result",
          "data": {
            "text/plain": [
              "{'accuracy': [0.7663454413414001,\n",
              "  0.8301272988319397,\n",
              "  0.8435636162757874,\n",
              "  0.8536909222602844,\n",
              "  0.8600000143051147,\n",
              "  0.8650363683700562,\n",
              "  0.8703454732894897,\n",
              "  0.8747272491455078,\n",
              "  0.8767818212509155,\n",
              "  0.8791090846061707,\n",
              "  0.8824363350868225,\n",
              "  0.8860363364219666,\n",
              "  0.8878545165061951,\n",
              "  0.8905818462371826,\n",
              "  0.8939090967178345,\n",
              "  0.8960000276565552,\n",
              "  0.895763635635376,\n",
              "  0.8987636566162109,\n",
              "  0.8998000025749207,\n",
              "  0.9014363884925842,\n",
              "  0.9039272665977478,\n",
              "  0.9047272801399231,\n",
              "  0.9065454602241516,\n",
              "  0.907945454120636,\n",
              "  0.9106000065803528,\n",
              "  0.9113273024559021,\n",
              "  0.9129454493522644,\n",
              "  0.9145636558532715,\n",
              "  0.9147636294364929,\n",
              "  0.9177818298339844],\n",
              " 'loss': [0.7235616445541382,\n",
              "  0.48933306336402893,\n",
              "  0.4440629482269287,\n",
              "  0.41643044352531433,\n",
              "  0.39801064133644104,\n",
              "  0.3810206353664398,\n",
              "  0.3679158389568329,\n",
              "  0.35573163628578186,\n",
              "  0.3463905155658722,\n",
              "  0.33774709701538086,\n",
              "  0.32821404933929443,\n",
              "  0.3205060064792633,\n",
              "  0.31213727593421936,\n",
              "  0.30579790472984314,\n",
              "  0.2988472282886505,\n",
              "  0.29280105233192444,\n",
              "  0.28757181763648987,\n",
              "  0.28207501769065857,\n",
              "  0.27736467123031616,\n",
              "  0.2715549170970917,\n",
              "  0.2666285037994385,\n",
              "  0.26169484853744507,\n",
              "  0.2568219006061554,\n",
              "  0.2528580129146576,\n",
              "  0.24855470657348633,\n",
              "  0.24491389095783234,\n",
              "  0.23965850472450256,\n",
              "  0.23730725049972534,\n",
              "  0.23324529826641083,\n",
              "  0.22856907546520233],\n",
              " 'val_accuracy': [0.8248000144958496,\n",
              "  0.8511999845504761,\n",
              "  0.8587999939918518,\n",
              "  0.8686000108718872,\n",
              "  0.8690000176429749,\n",
              "  0.8686000108718872,\n",
              "  0.8715999722480774,\n",
              "  0.8794000148773193,\n",
              "  0.8755999803543091,\n",
              "  0.875,\n",
              "  0.8805999755859375,\n",
              "  0.8827999830245972,\n",
              "  0.8827999830245972,\n",
              "  0.871399998664856,\n",
              "  0.8820000290870667,\n",
              "  0.8844000101089478,\n",
              "  0.8876000046730042,\n",
              "  0.8853999972343445,\n",
              "  0.8877999782562256,\n",
              "  0.8840000033378601,\n",
              "  0.8877999782562256,\n",
              "  0.8895999789237976,\n",
              "  0.8795999884605408,\n",
              "  0.8898000121116638,\n",
              "  0.8784000277519226,\n",
              "  0.890999972820282,\n",
              "  0.8894000053405762,\n",
              "  0.8902000188827515,\n",
              "  0.8870000243186951,\n",
              "  0.8873999714851379],\n",
              " 'val_loss': [0.5168154835700989,\n",
              "  0.4477766454219818,\n",
              "  0.4164099097251892,\n",
              "  0.396904319524765,\n",
              "  0.38176023960113525,\n",
              "  0.37799617648124695,\n",
              "  0.37426117062568665,\n",
              "  0.35686856508255005,\n",
              "  0.35345304012298584,\n",
              "  0.3484334945678711,\n",
              "  0.34369805455207825,\n",
              "  0.34195342659950256,\n",
              "  0.3337486982345581,\n",
              "  0.3581371009349823,\n",
              "  0.32738155126571655,\n",
              "  0.3179886043071747,\n",
              "  0.323535680770874,\n",
              "  0.32469144463539124,\n",
              "  0.3184508681297302,\n",
              "  0.32437753677368164,\n",
              "  0.3109048306941986,\n",
              "  0.30546391010284424,\n",
              "  0.32643207907676697,\n",
              "  0.30768606066703796,\n",
              "  0.3297182619571686,\n",
              "  0.3020535707473755,\n",
              "  0.30393797159194946,\n",
              "  0.2952280640602112,\n",
              "  0.29860496520996094,\n",
              "  0.3002466857433319]}"
            ]
          },
          "metadata": {
            "tags": []
          },
          "execution_count": 43
        }
      ]
    },
    {
      "cell_type": "code",
      "metadata": {
        "id": "3pb3M3iluSku",
        "colab_type": "code",
        "colab": {}
      },
      "source": [
        "import pandas as pd\n",
        "import matplotlib.pyplot as plt"
      ],
      "execution_count": 0,
      "outputs": []
    },
    {
      "cell_type": "code",
      "metadata": {
        "id": "rQ34JxT4unso",
        "colab_type": "code",
        "colab": {
          "base_uri": "https://localhost:8080/",
          "height": 324
        },
        "outputId": "a587e167-a62c-4e69-f0af-434de40b8b1f"
      },
      "source": [
        "pd.DataFrame(history.history).plot(figsize=(8, 5))\n",
        "plt.grid(True)\n",
        "plt.gca().set_ylim(0, 1) # set the vertical range to [0-1]\n",
        "plt.show()"
      ],
      "execution_count": 51,
      "outputs": [
        {
          "output_type": "display_data",
          "data": {
            "image/png": "[encoded data removed]",
            "text/plain": [
              "<Figure size 576x360 with 1 Axes>"
            ]
          },
          "metadata": {
            "tags": [],
            "needs_background": "light"
          }
        }
      ]
    },
    {
      "cell_type": "markdown",
      "metadata": {
        "id": "q6Q40F-nvZKO",
        "colab_type": "text"
      },
      "source": [
        "The validation curves are close to the training curves, which means that there is not too much overfitting."
      ]
    },
    {
      "cell_type": "code",
      "metadata": {
        "id": "4K2u3tV708DI",
        "colab_type": "code",
        "colab": {}
      },
      "source": [
        "X_test=X_test/255.0\n",
        "y_test=y_test/255.0"
      ],
      "execution_count": 0,
      "outputs": []
    },
    {
      "cell_type": "code",
      "metadata": {
        "id": "ETb2WsHu0a6l",
        "colab_type": "code",
        "colab": {
          "base_uri": "https://localhost:8080/",
          "height": 52
        },
        "outputId": "e01be3b8-534a-4c01-e93d-ec5a003fa808"
      },
      "source": [
        "model.evaluate(X_test, y_test)"
      ],
      "execution_count": 54,
      "outputs": [
        {
          "output_type": "stream",
          "text": [
            "313/313 [==============================] - 1s 2ms/step - loss: 9.3088 - accuracy: 0.0736\n"
          ],
          "name": "stdout"
        },
        {
          "output_type": "execute_result",
          "data": {
            "text/plain": [
              "[9.308764457702637, 0.07360000163316727]"
            ]
          },
          "metadata": {
            "tags": []
          },
          "execution_count": 54
        }
      ]
    },
    {
      "cell_type": "code",
      "metadata": {
        "id": "jd6nqs890bdz",
        "colab_type": "code",
        "colab": {
          "base_uri": "https://localhost:8080/",
          "height": 86
        },
        "outputId": "a954eba2-2bcf-4959-eb7b-0ce69709b038"
      },
      "source": [
        "X_new = X_test[:3]\n",
        "y_new = y_test[:3]\n",
        "\n",
        "y_proba = model.predict(X_new)\n",
        "y_proba.round(2)"
      ],
      "execution_count": 68,
      "outputs": [
        {
          "output_type": "execute_result",
          "data": {
            "text/plain": [
              "array([[0.  , 0.  , 0.  , 0.  , 0.  , 0.01, 0.  , 0.01, 0.  , 0.98],\n",
              "       [0.  , 0.  , 1.  , 0.  , 0.  , 0.  , 0.  , 0.  , 0.  , 0.  ],\n",
              "       [0.  , 1.  , 0.  , 0.  , 0.  , 0.  , 0.  , 0.  , 0.  , 0.  ]],\n",
              "      dtype=float32)"
            ]
          },
          "metadata": {
            "tags": []
          },
          "execution_count": 68
        }
      ]
    },
    {
      "cell_type": "code",
      "metadata": {
        "id": "c4GAehJ33MiG",
        "colab_type": "code",
        "colab": {
          "base_uri": "https://localhost:8080/",
          "height": 89
        },
        "outputId": "5e130612-602b-46e9-9b37-44af6946a052"
      },
      "source": [
        "y_pred = model.predict_classes(X_new)"
      ],
      "execution_count": 58,
      "outputs": [
        {
          "output_type": "stream",
          "text": [
            "WARNING:tensorflow:From <ipython-input-58-53f3df9ca645>:1: Sequential.predict_classes (from tensorflow.python.keras.engine.sequential) is deprecated and will be removed after 2021-01-01.\n",
            "Instructions for updating:\n",
            "Please use instead:* `np.argmax(model.predict(x), axis=-1)`,   if your model does multi-class classification   (e.g. if it uses a `softmax` last-layer activation).* `(model.predict(x) > 0.5).astype(\"int32\")`,   if your model does binary classification   (e.g. if it uses a `sigmoid` last-layer activation).\n"
          ],
          "name": "stdout"
        }
      ]
    },
    {
      "cell_type": "code",
      "metadata": {
        "id": "KEegmLJK3SN4",
        "colab_type": "code",
        "colab": {
          "base_uri": "https://localhost:8080/",
          "height": 34
        },
        "outputId": "682441c9-8ab3-4b31-c113-729992b2726e"
      },
      "source": [
        "y_pred "
      ],
      "execution_count": 64,
      "outputs": [
        {
          "output_type": "execute_result",
          "data": {
            "text/plain": [
              "array([9, 2, 1])"
            ]
          },
          "metadata": {
            "tags": []
          },
          "execution_count": 64
        }
      ]
    },
    {
      "cell_type": "code",
      "metadata": {
        "id": "qvPGiqJz4gtw",
        "colab_type": "code",
        "colab": {
          "base_uri": "https://localhost:8080/",
          "height": 34
        },
        "outputId": "6a68e66c-ef61-4a47-d053-3052fc77eb87"
      },
      "source": [
        "y_new"
      ],
      "execution_count": 75,
      "outputs": [
        {
          "output_type": "execute_result",
          "data": {
            "text/plain": [
              "array([0.03529412, 0.00784314, 0.00392157])"
            ]
          },
          "metadata": {
            "tags": []
          },
          "execution_count": 75
        }
      ]
    }
  ]
}