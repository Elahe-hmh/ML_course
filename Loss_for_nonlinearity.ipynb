{
  "nbformat": 4,
  "nbformat_minor": 0,
  "metadata": {
    "colab": {
      "name": "Loss for nonlinearity.ipynb",
      "provenance": [],
      "collapsed_sections": [],
      "authorship_tag": "ABX9TyNkxCnfWaEIBqxAAPt0il5t",
      "include_colab_link": true
    },
    "kernelspec": {
      "name": "python3",
      "display_name": "Python 3"
    }
  },
  "cells": [
    {
      "cell_type": "markdown",
      "metadata": {
        "id": "view-in-github",
        "colab_type": "text"
      },
      "source": [
        "<a href=\"https://colab.research.google.com/github/Elahe-hmh/ML_Practice/blob/master/Loss_for_nonlinearity.ipynb\" target=\"_parent\"><img src=\"https://colab.research.google.com/assets/colab-badge.svg\" alt=\"Open In Colab\"/></a>"
      ]
    },
    {
      "cell_type": "code",
      "metadata": {
        "id": "PYvX0ytaYUP-",
        "colab_type": "code",
        "colab": {}
      },
      "source": [
        "import numpy as np\n",
        "import matplotlib.pyplot as plt\n",
        "from scipy.optimize import minimize"
      ],
      "execution_count": 0,
      "outputs": []
    },
    {
      "cell_type": "code",
      "metadata": {
        "id": "HRNdZk7tXy-2",
        "colab_type": "code",
        "colab": {}
      },
      "source": [
        "def loss(y_list, x_list, w1_list,w2_list,bias=0):\n",
        "    n_sample = len(y_list)\n",
        "    y_list = y_list.reshape(n_sample,1)\n",
        "    x_list = x_list.reshape(n_sample,1)\n",
        "    f_list =  ( np.dot((x_list)**2, w1_list ) + np.dot((x_list),w2_list)+ bias ).reshape( len(y_list)  , 1 )\n",
        "    return np.sqrt( np.sum(  ( y_list - f_list )**2 )   )/n_sample"
      ],
      "execution_count": 0,
      "outputs": []
    },
    {
      "cell_type": "code",
      "metadata": {
        "id": "hVMT5bfQZrD1",
        "colab_type": "code",
        "colab": {}
      },
      "source": [
        "def position(a, v=0, x0=0, n_samples=100, t_max=5):\n",
        "    t_list = np.random.uniform(0,t_max,n_samples)\n",
        "    return t_list.reshape(n_samples,1) , (1/2*a*t_list**2 + v*t_list+x0).reshape(n_samples,1)\n",
        "\n",
        "t_list , pos_list = position(2,v=-6,x0=9, t_max=10)"
      ],
      "execution_count": 0,
      "outputs": []
    },
    {
      "cell_type": "code",
      "metadata": {
        "id": "ctmq08Y-ZI9e",
        "colab_type": "code",
        "colab": {}
      },
      "source": [
        "def simplified_loss(w1,w2, b=0):\n",
        "    return loss(pos_list,t_list,w1_list,w2_list,bias=0)"
      ],
      "execution_count": 0,
      "outputs": []
    },
    {
      "cell_type": "code",
      "metadata": {
        "id": "Yt_GbPQTa5Y7",
        "colab_type": "code",
        "colab": {}
      },
      "source": [
        "w1_axis = np.arange(-4,0, .01)\n",
        "w2_axis=np.arange(-4,0, .01)\n",
        "\n",
        "losses = [simplified_loss(w1,w2, b=0) for w1,w2 in (w1_axis,w2_axis)]\n",
        "\n",
        "fig = plt.figure()\n",
        "ax = fig.add_subplot(111, xlabel='w', ylabel='Loss', title='Loss vs w \\n b=0')\n",
        "ax.plot(w_axis, losses)\n",
        "\n",
        "plt.show()"
      ],
      "execution_count": 0,
      "outputs": []
    },
    {
      "cell_type": "code",
      "metadata": {
        "id": "GUXqvm_LZPqZ",
        "colab_type": "code",
        "colab": {}
      },
      "source": [
        ""
      ],
      "execution_count": 0,
      "outputs": []
    }
  ]
}