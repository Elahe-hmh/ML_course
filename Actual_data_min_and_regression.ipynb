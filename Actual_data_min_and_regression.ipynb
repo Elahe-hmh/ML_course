{
  "nbformat": 4,
  "nbformat_minor": 0,
  "metadata": {
    "colab": {
      "name": " Actual data_min and regression.ipynb",
      "provenance": [],
      "collapsed_sections": [],
      "authorship_tag": "ABX9TyPPHZrPhJ6I9nQfa0x0Ot3v",
      "include_colab_link": true
    },
    "kernelspec": {
      "name": "python3",
      "display_name": "Python 3"
    }
  },
  "cells": [
    {
      "cell_type": "markdown",
      "metadata": {
        "id": "view-in-github",
        "colab_type": "text"
      },
      "source": [
        "<a href=\"https://colab.research.google.com/github/Elahe-hmh/ML_Practice/blob/master/Actual_data_min_and_regression.ipynb\" target=\"_parent\"><img src=\"https://colab.research.google.com/assets/colab-badge.svg\" alt=\"Open In Colab\"/></a>"
      ]
    },
    {
      "cell_type": "code",
      "metadata": {
        "id": "vwkey38qQ7uS",
        "colab_type": "code",
        "colab": {}
      },
      "source": [
        "import io, requests      #the default interface to access files and streams\n",
        "import pandas as pd\n",
        "import numpy as np\n",
        "import matplotlib.pyplot as plt\n",
        "from scipy.optimize import minimize\n",
        "from sklearn.linear_model import LinearRegression"
      ],
      "execution_count": 0,
      "outputs": []
    },
    {
      "cell_type": "code",
      "metadata": {
        "id": "1y_h2uXPSum-",
        "colab_type": "code",
        "colab": {}
      },
      "source": [
        "def loss(y_list, x_list, w_list, bias=0):\n",
        "    n_sample = len(y_list)\n",
        "    y_list = y_list.reshape(n_sample,1)\n",
        "    x_list = x_list.reshape(n_sample,1)\n",
        "#     print(y_list.shape, x_list.shape)\n",
        "    f_list =  ( np.dot(x_list, w_list ) + bias ).reshape( len(y_list)  , 1 )\n",
        "    return np.sqrt( np.sum(  ( y_list - f_list )**2 )   )/n_sample\n"
      ],
      "execution_count": 0,
      "outputs": []
    },
    {
      "cell_type": "code",
      "metadata": {
        "id": "wQWLVvtRR9Kl",
        "colab_type": "code",
        "colab": {}
      },
      "source": [
        "url = 'https://raw.githubusercontent.com/sraeisi/MachineLearning_Physics/master/Lec_1/Spring.csv'\n",
        "s=requests.get(url).content\n",
        "exp_data=pd.read_csv(io.StringIO(s.decode('utf-8')))"
      ],
      "execution_count": 0,
      "outputs": []
    },
    {
      "cell_type": "code",
      "metadata": {
        "id": "wrg_rOqgSOSV",
        "colab_type": "code",
        "colab": {
          "base_uri": "https://localhost:8080/",
          "height": 235
        },
        "outputId": "77ea4846-2777-404f-ad3e-8407cfa2c689"
      },
      "source": [
        "exp_data"
      ],
      "execution_count": 32,
      "outputs": [
        {
          "output_type": "execute_result",
          "data": {
            "text/html": [
              "<div>\n",
              "<style scoped>\n",
              "    .dataframe tbody tr th:only-of-type {\n",
              "        vertical-align: middle;\n",
              "    }\n",
              "\n",
              "    .dataframe tbody tr th {\n",
              "        vertical-align: top;\n",
              "    }\n",
              "\n",
              "    .dataframe thead th {\n",
              "        text-align: right;\n",
              "    }\n",
              "</style>\n",
              "<table border=\"1\" class=\"dataframe\">\n",
              "  <thead>\n",
              "    <tr style=\"text-align: right;\">\n",
              "      <th></th>\n",
              "      <th>Displacement</th>\n",
              "      <th>Force</th>\n",
              "    </tr>\n",
              "  </thead>\n",
              "  <tbody>\n",
              "    <tr>\n",
              "      <th>0</th>\n",
              "      <td>11.5</td>\n",
              "      <td>0.0</td>\n",
              "    </tr>\n",
              "    <tr>\n",
              "      <th>1</th>\n",
              "      <td>14.7</td>\n",
              "      <td>0.1</td>\n",
              "    </tr>\n",
              "    <tr>\n",
              "      <th>2</th>\n",
              "      <td>18.0</td>\n",
              "      <td>0.2</td>\n",
              "    </tr>\n",
              "    <tr>\n",
              "      <th>3</th>\n",
              "      <td>21.3</td>\n",
              "      <td>0.3</td>\n",
              "    </tr>\n",
              "    <tr>\n",
              "      <th>4</th>\n",
              "      <td>24.5</td>\n",
              "      <td>0.4</td>\n",
              "    </tr>\n",
              "    <tr>\n",
              "      <th>5</th>\n",
              "      <td>27.6</td>\n",
              "      <td>0.5</td>\n",
              "    </tr>\n",
              "  </tbody>\n",
              "</table>\n",
              "</div>"
            ],
            "text/plain": [
              "   Displacement  Force\n",
              "0          11.5    0.0\n",
              "1          14.7    0.1\n",
              "2          18.0    0.2\n",
              "3          21.3    0.3\n",
              "4          24.5    0.4\n",
              "5          27.6    0.5"
            ]
          },
          "metadata": {
            "tags": []
          },
          "execution_count": 32
        }
      ]
    },
    {
      "cell_type": "code",
      "metadata": {
        "id": "8k6qTXe2SZeo",
        "colab_type": "code",
        "colab": {}
      },
      "source": [
        "exp_w_axis = np.arange(-.1,.1, .001)\n",
        "exp_losses = [loss(exp_data['Force'].values, exp_data['Displacement'].values, w,bias=0 ) for w in exp_w_axis]"
      ],
      "execution_count": 0,
      "outputs": []
    },
    {
      "cell_type": "code",
      "metadata": {
        "id": "9vcmavaITDF_",
        "colab_type": "code",
        "colab": {
          "base_uri": "https://localhost:8080/",
          "height": 310
        },
        "outputId": "264a58a7-206b-4fe3-e9f7-3fb3f1bae4fb"
      },
      "source": [
        "fig = plt.figure()\n",
        "ax = fig.add_subplot(111, xlabel='w', ylabel='Loss', title='Loss vs w \\n b=0')\n",
        "ax.plot(exp_w_axis, exp_losses)\n",
        "\n",
        "plt.show()"
      ],
      "execution_count": 34,
      "outputs": [
        {
          "output_type": "display_data",
          "data": {
            "image/png": "[encoded data removed]",
            "text/plain": [
              "<Figure size 432x288 with 1 Axes>"
            ]
          },
          "metadata": {
            "tags": []
          }
        }
      ]
    },
    {
      "cell_type": "code",
      "metadata": {
        "id": "Pg7ZwP78TFyf",
        "colab_type": "code",
        "colab": {
          "base_uri": "https://localhost:8080/",
          "height": 35
        },
        "outputId": "3a8b3000-72ae-47c1-908c-bc32b0f3ed00"
      },
      "source": [
        "exp_min_w = minimize((lambda w: loss(exp_data['Force'].values, exp_data['Displacement'].values, [w[0]],w[1] )),[.1,.1])\n",
        "print('At the minimum, the loss is {}.'.format(loss(exp_data['Force'].values, exp_data['Displacement'].values,[exp_min_w.x[0] ],exp_min_w.x[1]) ) )"
      ],
      "execution_count": 35,
      "outputs": [
        {
          "output_type": "stream",
          "text": [
            "At the minimum, the loss is 0.0007182370023728148.\n"
          ],
          "name": "stdout"
        }
      ]
    },
    {
      "cell_type": "code",
      "metadata": {
        "id": "d5SOO_xdTZyS",
        "colab_type": "code",
        "colab": {}
      },
      "source": [
        "exp_reg = LinearRegression()\n",
        "exp_reg.fit(exp_data['Displacement'].values.reshape(len(exp_data),1), exp_data['Force'])\n",
        "exp_x = np.arange(10,30,.5).reshape(40,1)\n"
      ],
      "execution_count": 0,
      "outputs": []
    },
    {
      "cell_type": "code",
      "metadata": {
        "id": "aYk-lGCeUOO1",
        "colab_type": "code",
        "colab": {
          "base_uri": "https://localhost:8080/",
          "height": 295
        },
        "outputId": "5003b904-f36e-4273-ff22-b7adc8ed2096"
      },
      "source": [
        "x_label = 'Displacement (m)'\n",
        "y_label = 'Force (N)'\n",
        "plt_title = 'Spring force vs. displacement'\n",
        "\n",
        "fig = plt.figure()\n",
        "ax = fig.add_subplot(111, xlabel=x_label, ylabel=y_label, title=plt_title)\n",
        "\n",
        "ax.plot( exp_x , exp_reg.predict( exp_x ) ,label='Linear Regression Fit' )\n",
        "ax.scatter(exp_data.Displacement , exp_data.Force, color='r',label='Data' )\n",
        "ax.legend(loc=0)\n",
        "plt.show()"
      ],
      "execution_count": 38,
      "outputs": [
        {
          "output_type": "display_data",
          "data": {
            "image/png": "[encoded data removed]",
            "text/plain": [
              "<Figure size 432x288 with 1 Axes>"
            ]
          },
          "metadata": {
            "tags": []
          }
        }
      ]
    },
    {
      "cell_type": "code",
      "metadata": {
        "id": "pM06r2zxUzMc",
        "colab_type": "code",
        "colab": {}
      },
      "source": [
        ""
      ],
      "execution_count": 0,
      "outputs": []
    }
  ]
}