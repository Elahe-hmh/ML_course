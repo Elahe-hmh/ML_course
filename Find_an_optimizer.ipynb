{
  "nbformat": 4,
  "nbformat_minor": 0,
  "metadata": {
    "colab": {
      "name": "Find an optimizer.ipynb",
      "provenance": [],
      "collapsed_sections": [],
      "authorship_tag": "ABX9TyPUDzo46/enetiBJuhA3daL",
      "include_colab_link": true
    },
    "kernelspec": {
      "name": "python3",
      "display_name": "Python 3"
    }
  },
  "cells": [
    {
      "cell_type": "markdown",
      "metadata": {
        "id": "view-in-github",
        "colab_type": "text"
      },
      "source": [
        "<a href=\"https://colab.research.google.com/github/Elahe-hmh/ML_Practice/blob/master/Find_an_optimizer.ipynb\" target=\"_parent\"><img src=\"https://colab.research.google.com/assets/colab-badge.svg\" alt=\"Open In Colab\"/></a>"
      ]
    },
    {
      "cell_type": "code",
      "metadata": {
        "id": "b_LJRxHrRoei",
        "colab_type": "code",
        "colab": {}
      },
      "source": [
        "from scipy.optimize import minimize  #provides functions for minimizing (or maximizing)\n",
        "min_w = minimize( (lambda w: loss(spring_force_list, x_list, [w[0]],w[1] )),[.1,.1])                    #?????"
      ],
      "execution_count": 0,
      "outputs": []
    },
    {
      "cell_type": "code",
      "metadata": {
        "id": "2jet8hNdTEk9",
        "colab_type": "code",
        "colab": {}
      },
      "source": [
        "print('The slope is {} and the intercept is {}.'.format(*min_w.x))\n",
        "print(f'At the minimum, the loss is {simplified_loss([min_w.x[0] ],min_w.x[1])}.' )"
      ],
      "execution_count": 0,
      "outputs": []
    }
  ]
}