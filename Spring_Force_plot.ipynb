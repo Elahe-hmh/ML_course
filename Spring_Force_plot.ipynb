{
  "nbformat": 4,
  "nbformat_minor": 0,
  "metadata": {
    "colab": {
      "name": "Spring Force plot",
      "provenance": [],
      "collapsed_sections": [],
      "authorship_tag": "ABX9TyP6xvSToJX9Qn6FLhKOv1s2",
      "include_colab_link": true
    },
    "kernelspec": {
      "name": "python3",
      "display_name": "Python 3"
    }
  },
  "cells": [
    {
      "cell_type": "markdown",
      "metadata": {
        "id": "view-in-github",
        "colab_type": "text"
      },
      "source": [
        "<a href=\"https://colab.research.google.com/github/Elahe-hmh/ML_Practice/blob/master/Spring_Force_plot.ipynb\" target=\"_parent\"><img src=\"https://colab.research.google.com/assets/colab-badge.svg\" alt=\"Open In Colab\"/></a>"
      ]
    },
    {
      "cell_type": "code",
      "metadata": {
        "id": "Yj0jgIY5or0-",
        "colab_type": "code",
        "colab": {}
      },
      "source": [
        "import numpy as np\n",
        "import pandas as pd\n",
        "import matplotlib.pyplot as plt"
      ],
      "execution_count": 0,
      "outputs": []
    },
    {
      "cell_type": "code",
      "metadata": {
        "id": "A7cvw8XMGoxu",
        "colab_type": "code",
        "colab": {}
      },
      "source": [
        "def spring_F(k,n_samples=100,x_max=5):\n",
        "  x_list=np.random.uniform(0,x_max,n_samples)    # any value within the given interval is equally likely to be drawn by uniform\n",
        "  return x_list.reshape(n_samples,1) , -k*np.abs( x_list ).reshape(n_samples,1) #We have 2 array(100,1). first:X  second:F\n",
        " \n",
        "#print(x_list)  \n",
        "#print('end')\n",
        "#print(x_list.reshape(100,1))\n"
      ],
      "execution_count": 0,
      "outputs": []
    },
    {
      "cell_type": "code",
      "metadata": {
        "id": "dRAJmrJUpczK",
        "colab_type": "code",
        "colab": {}
      },
      "source": [
        "x_list , spring_force_list = spring_F(2,)  #_F(2,) is a tuple of two arrays(100,1)\n",
        "#print(spring_F(2,))\n",
        "\n"
      ],
      "execution_count": 0,
      "outputs": []
    },
    {
      "cell_type": "code",
      "metadata": {
        "id": "6UORdxUFqynR",
        "colab_type": "code",
        "colab": {
          "base_uri": "https://localhost:8080/",
          "height": 295
        },
        "outputId": "7d0b0ae5-30e2-4ee8-b1fa-ad949a570d6b"
      },
      "source": [
        "x_label = 'Displacement (m)'\n",
        "y_label = 'Force (N)'\n",
        "plt_lable= 'Spring force vs. displacement'\n",
        "fig = plt.figure()  #to create a figure object_whole figure is regarded as the figure object_\n",
        "                    #when we want to tweak the size of the figure and add multiple Axes objects in a single figure\n",
        "ax = fig.add_subplot(111, xlabel=x_label, ylabel=y_label, title=plt_lable) # remember( xlabel ylabel title )\n",
        "\n",
        "ax.scatter(x_list , spring_force_list)\n",
        "plt.show()\n",
        "# plt.close()"
      ],
      "execution_count": 24,
      "outputs": [
        {
          "output_type": "display_data",
          "data": {
            "image/png": "[encoded data removed]",
            "text/plain": [
              "<Figure size 432x288 with 1 Axes>"
            ]
          },
          "metadata": {
            "tags": []
          }
        }
      ]
    },
    {
      "cell_type": "markdown",
      "metadata": {
        "id": "6ELjAEg6u-Ib",
        "colab_type": "text"
      },
      "source": [
        ":DDDDD\n",
        "Hoooooraaaaaa!"
      ]
    },
    {
      "cell_type": "code",
      "metadata": {
        "id": "4vSy2x35vEnh",
        "colab_type": "code",
        "colab": {}
      },
      "source": [
        ""
      ],
      "execution_count": 0,
      "outputs": []
    }
  ]
}