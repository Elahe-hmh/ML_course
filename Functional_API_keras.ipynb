{
  "nbformat": 4,
  "nbformat_minor": 0,
  "metadata": {
    "colab": {
      "name": "Functional API_keras.ipynb",
      "provenance": [],
      "collapsed_sections": [],
      "authorship_tag": "ABX9TyOV6KELcPe9EJk6MnvJOJgC",
      "include_colab_link": true
    },
    "kernelspec": {
      "name": "python3",
      "display_name": "Python 3"
    },
    "accelerator": "GPU"
  },
  "cells": [
    {
      "cell_type": "markdown",
      "metadata": {
        "id": "view-in-github",
        "colab_type": "text"
      },
      "source": [
        "<a href=\"https://colab.research.google.com/github/Elahe-hmh/ML_course/blob/master/Functional_API_keras.ipynb\" target=\"_parent\"><img src=\"https://colab.research.google.com/assets/colab-badge.svg\" alt=\"Open In Colab\"/></a>"
      ]
    },
    {
      "cell_type": "markdown",
      "metadata": {
        "id": "2AADNwkwi6PL",
        "colab_type": "text"
      },
      "source": [
        "### Complex Models Using the Functional API"
      ]
    },
    {
      "cell_type": "markdown",
      "metadata": {
        "id": "bxfkK2uFjEdO",
        "colab_type": "text"
      },
      "source": [
        "**Multiple input!**"
      ]
    },
    {
      "cell_type": "code",
      "metadata": {
        "id": "TrraETMj-Llk",
        "colab_type": "code",
        "colab": {}
      },
      "source": [
        "from sklearn.datasets import fetch_california_housing\n",
        "from sklearn.model_selection import train_test_split\n",
        "from sklearn.preprocessing import StandardScaler"
      ],
      "execution_count": 0,
      "outputs": []
    },
    {
      "cell_type": "code",
      "metadata": {
        "id": "hCV7MEt2AItD",
        "colab_type": "code",
        "colab": {}
      },
      "source": [
        "import tensorflow as tf\n",
        "from tensorflow import keras"
      ],
      "execution_count": 0,
      "outputs": []
    },
    {
      "cell_type": "code",
      "metadata": {
        "id": "J1jhBB8f-Zk4",
        "colab_type": "code",
        "outputId": "f6771434-236e-4cd8-a9ed-17c278533d9a",
        "colab": {
          "base_uri": "https://localhost:8080/",
          "height": 34
        }
      },
      "source": [
        "housing = fetch_california_housing()"
      ],
      "execution_count": 4,
      "outputs": [
        {
          "output_type": "stream",
          "text": [
            "Downloading Cal. housing from https://ndownloader.figshare.com/files/5976036 to /root/scikit_learn_data\n"
          ],
          "name": "stderr"
        }
      ]
    },
    {
      "cell_type": "code",
      "metadata": {
        "id": "dx9tuHcm-lwm",
        "colab_type": "code",
        "colab": {}
      },
      "source": [
        "X_train_full, X_test, y_train_full, y_test = train_test_split(housing.data, housing.target)"
      ],
      "execution_count": 0,
      "outputs": []
    },
    {
      "cell_type": "code",
      "metadata": {
        "id": "XnLvqrOb-sCi",
        "colab_type": "code",
        "colab": {}
      },
      "source": [
        "X_train, X_valid, y_train, y_valid = train_test_split(X_train_full, y_train_full)"
      ],
      "execution_count": 0,
      "outputs": []
    },
    {
      "cell_type": "code",
      "metadata": {
        "id": "Py99t2h2-09w",
        "colab_type": "code",
        "colab": {}
      },
      "source": [
        "scaler = StandardScaler()\n",
        "X_train = scaler.fit_transform(X_train)\n",
        "X_valid = scaler.transform(X_valid)\n",
        "X_test = scaler.transform(X_test)"
      ],
      "execution_count": 0,
      "outputs": []
    },
    {
      "cell_type": "code",
      "metadata": {
        "id": "CAToSddpBoFP",
        "colab_type": "code",
        "colab": {}
      },
      "source": [
        "input_A = keras.layers.Input(shape=[5], name=\"wide_input\")\n",
        "input_B = keras.layers.Input(shape=[6], name=\"deep_input\")\n",
        "hidden1 = keras.layers.Dense(30, activation=\"relu\")(input_B)\n",
        "hidden2 = keras.layers.Dense(30, activation=\"relu\")(hidden1)\n",
        "concat = keras.layers.concatenate([input_A, hidden2])\n",
        "output = keras.layers.Dense(1, name=\"output\")(concat)\n",
        "model = keras.Model(inputs=[input_A, input_B], outputs=[output])"
      ],
      "execution_count": 0,
      "outputs": []
    },
    {
      "cell_type": "code",
      "metadata": {
        "id": "PDuTevjdetl3",
        "colab_type": "code",
        "colab": {}
      },
      "source": [
        "model.compile(loss=\"mse\", optimizer=keras.optimizers.SGD(lr=1e-3))"
      ],
      "execution_count": 0,
      "outputs": []
    },
    {
      "cell_type": "code",
      "metadata": {
        "id": "p_zFNPM4f_Ch",
        "colab_type": "code",
        "outputId": "4149d507-9733-4858-9df2-e71f0f3bdf4f",
        "colab": {
          "base_uri": "https://localhost:8080/",
          "height": 712
        }
      },
      "source": [
        "X_train_A, X_train_B = X_train[:, :5], X_train[:, 2:]\n",
        "X_valid_A, X_valid_B = X_valid[:, :5], X_valid[:, 2:]\n",
        "X_test_A, X_test_B = X_test[:, :5], X_test[:, 2:]\n",
        "X_new_A, X_new_B = X_test_A[:3], X_test_B[:3]\n",
        "\n",
        "history = model.fit((X_train_A, X_train_B), y_train, epochs=20,\n",
        "validation_data=((X_valid_A, X_valid_B), y_valid))\n",
        "\n"
      ],
      "execution_count": 10,
      "outputs": [
        {
          "output_type": "stream",
          "text": [
            "Epoch 1/20\n",
            "363/363 [==============================] - 1s 4ms/step - loss: 2.0696 - val_loss: 0.9178\n",
            "Epoch 2/20\n",
            "363/363 [==============================] - 1s 3ms/step - loss: 0.7875 - val_loss: 0.7210\n",
            "Epoch 3/20\n",
            "363/363 [==============================] - 1s 3ms/step - loss: 0.6719 - val_loss: 0.6558\n",
            "Epoch 4/20\n",
            "363/363 [==============================] - 1s 3ms/step - loss: 0.6191 - val_loss: 0.6169\n",
            "Epoch 5/20\n",
            "363/363 [==============================] - 1s 3ms/step - loss: 0.5859 - val_loss: 0.5904\n",
            "Epoch 6/20\n",
            "363/363 [==============================] - 1s 3ms/step - loss: 0.5624 - val_loss: 0.5696\n",
            "Epoch 7/20\n",
            "363/363 [==============================] - 1s 3ms/step - loss: 0.5450 - val_loss: 0.5541\n",
            "Epoch 8/20\n",
            "363/363 [==============================] - 1s 3ms/step - loss: 0.5313 - val_loss: 0.5429\n",
            "Epoch 9/20\n",
            "363/363 [==============================] - 1s 3ms/step - loss: 0.5204 - val_loss: 0.5337\n",
            "Epoch 10/20\n",
            "363/363 [==============================] - 1s 3ms/step - loss: 0.5125 - val_loss: 0.5261\n",
            "Epoch 11/20\n",
            "363/363 [==============================] - 1s 3ms/step - loss: 0.5055 - val_loss: 0.5203\n",
            "Epoch 12/20\n",
            "363/363 [==============================] - 1s 3ms/step - loss: 0.5002 - val_loss: 0.5156\n",
            "Epoch 13/20\n",
            "363/363 [==============================] - 1s 3ms/step - loss: 0.4951 - val_loss: 0.5116\n",
            "Epoch 14/20\n",
            "363/363 [==============================] - 1s 3ms/step - loss: 0.4909 - val_loss: 0.5071\n",
            "Epoch 15/20\n",
            "363/363 [==============================] - 1s 3ms/step - loss: 0.4875 - val_loss: 0.5050\n",
            "Epoch 16/20\n",
            "363/363 [==============================] - 1s 3ms/step - loss: 0.4842 - val_loss: 0.5005\n",
            "Epoch 17/20\n",
            "363/363 [==============================] - 1s 3ms/step - loss: 0.4817 - val_loss: 0.4977\n",
            "Epoch 18/20\n",
            "363/363 [==============================] - 1s 3ms/step - loss: 0.4787 - val_loss: 0.4955\n",
            "Epoch 19/20\n",
            "363/363 [==============================] - 1s 3ms/step - loss: 0.4767 - val_loss: 0.4922\n",
            "Epoch 20/20\n",
            "363/363 [==============================] - 1s 3ms/step - loss: 0.4741 - val_loss: 0.4899\n"
          ],
          "name": "stdout"
        }
      ]
    },
    {
      "cell_type": "code",
      "metadata": {
        "id": "hVeTiVRCgI8x",
        "colab_type": "code",
        "outputId": "2e4c84c6-b50e-4183-8b23-5707bdca8de9",
        "colab": {
          "base_uri": "https://localhost:8080/",
          "height": 265
        }
      },
      "source": [
        "import pandas as pd\n",
        "import matplotlib.pyplot as plt\n",
        "\n",
        "pd.DataFrame(history.history).plot(figsize=(6, 4))\n",
        "plt.grid(True)\n",
        "#plt.gca().set_ylim(0, 1) # set the vertical range to [0-1]\n",
        "plt.show()"
      ],
      "execution_count": 11,
      "outputs": [
        {
          "output_type": "display_data",
          "data": {
            "image/png": "[encoded data removed]",
            "text/plain": [
              "<Figure size 432x288 with 1 Axes>"
            ]
          },
          "metadata": {
            "tags": [],
            "needs_background": "light"
          }
        }
      ]
    },
    {
      "cell_type": "code",
      "metadata": {
        "id": "0RTs9WOlhtbu",
        "colab_type": "code",
        "outputId": "f9952e0d-1609-4eb4-803d-e572fcc4d1e2",
        "colab": {
          "base_uri": "https://localhost:8080/",
          "height": 34
        }
      },
      "source": [
        "mse_test = model.evaluate((X_test_A, X_test_B), y_test)"
      ],
      "execution_count": 12,
      "outputs": [
        {
          "output_type": "stream",
          "text": [
            "162/162 [==============================] - 0s 2ms/step - loss: 0.4897\n"
          ],
          "name": "stdout"
        }
      ]
    },
    {
      "cell_type": "code",
      "metadata": {
        "id": "bR9KvnIFhjts",
        "colab_type": "code",
        "colab": {}
      },
      "source": [
        "y_pred = model.predict((X_new_A, X_new_B))"
      ],
      "execution_count": 0,
      "outputs": []
    },
    {
      "cell_type": "code",
      "metadata": {
        "id": "wFYv3h9gh6Kc",
        "colab_type": "code",
        "outputId": "6af51e9c-99e0-415e-9f41-ca902826f948",
        "colab": {
          "base_uri": "https://localhost:8080/",
          "height": 34
        }
      },
      "source": [
        "y_test[0]"
      ],
      "execution_count": 14,
      "outputs": [
        {
          "output_type": "execute_result",
          "data": {
            "text/plain": [
              "1.775"
            ]
          },
          "metadata": {
            "tags": []
          },
          "execution_count": 14
        }
      ]
    },
    {
      "cell_type": "code",
      "metadata": {
        "id": "TtA-FXK_iAky",
        "colab_type": "code",
        "outputId": "a6683752-d4e8-4425-dfc3-f19bfa6ae88a",
        "colab": {
          "base_uri": "https://localhost:8080/",
          "height": 34
        }
      },
      "source": [
        "y_pred[0]"
      ],
      "execution_count": 15,
      "outputs": [
        {
          "output_type": "execute_result",
          "data": {
            "text/plain": [
              "array([2.1474125], dtype=float32)"
            ]
          },
          "metadata": {
            "tags": []
          },
          "execution_count": 15
        }
      ]
    },
    {
      "cell_type": "markdown",
      "metadata": {
        "id": "gZ_u1OSukTzJ",
        "colab_type": "text"
      },
      "source": [
        "**Multiple output!**"
      ]
    },
    {
      "cell_type": "code",
      "metadata": {
        "id": "jy0LAtkUkQ8f",
        "colab_type": "code",
        "colab": {}
      },
      "source": [
        "input_A = keras.layers.Input(shape=[5], name=\"wide_input\")\n",
        "input_B = keras.layers.Input(shape=[6], name=\"deep_input\")\n",
        "hidden1 = keras.layers.Dense(30, activation=\"relu\")(input_B)\n",
        "hidden2 = keras.layers.Dense(30, activation=\"relu\")(hidden1)\n",
        "concat = keras.layers.concatenate([input_A, hidden2])\n",
        "output = keras.layers.Dense(1, name=\"main_output\")(concat)\n",
        "aux_output = keras.layers.Dense(1, name=\"aux_output\")(hidden2)\n",
        "model = keras.Model(inputs=[input_A, input_B], outputs=[output, aux_output])"
      ],
      "execution_count": 0,
      "outputs": []
    },
    {
      "cell_type": "markdown",
      "metadata": {
        "id": "r9oHJjAElLKR",
        "colab_type": "text"
      },
      "source": [
        "if we pass a single loss, Keras will assume that the\n",
        "same loss must be used for all outputs). By default, Keras will compute all these losses\n",
        "and simply add them up to get the final loss used for training. We care much more\n",
        "about the main output than about the auxiliary output (as it is just used for regulari‐\n",
        "zation), so we want to give the main output’s loss a much greater weight\n"
      ]
    },
    {
      "cell_type": "code",
      "metadata": {
        "id": "Lon-9aJskllL",
        "colab_type": "code",
        "colab": {}
      },
      "source": [
        "model.compile(loss=[\"mse\", \"mse\"], loss_weights=[0.9, 0.1], optimizer=\"sgd\")"
      ],
      "execution_count": 0,
      "outputs": []
    },
    {
      "cell_type": "markdown",
      "metadata": {
        "id": "l9yX_iFBlNp9",
        "colab_type": "text"
      },
      "source": [
        "provide labels for each output.\n",
        "\n",
        "In this\n",
        "example, the main output and the auxiliary output should try to predict the same\n",
        "thing, so they should use the same labels"
      ]
    },
    {
      "cell_type": "code",
      "metadata": {
        "id": "pjPRj480k4VY",
        "colab_type": "code",
        "colab": {
          "base_uri": "https://localhost:8080/",
          "height": 732
        },
        "outputId": "c6047a0f-9d91-4491-8962-904bfca350e5"
      },
      "source": [
        "history = model.fit(\n",
        "[X_train_A, X_train_B], [y_train, y_train], epochs=20,\n",
        "validation_data=([X_valid_A, X_valid_B], [y_valid, y_valid]))"
      ],
      "execution_count": 18,
      "outputs": [
        {
          "output_type": "stream",
          "text": [
            "Epoch 1/20\n",
            "363/363 [==============================] - 2s 5ms/step - loss: 0.9581 - main_output_loss: 0.8561 - aux_output_loss: 1.8754 - val_loss: 0.6238 - val_main_output_loss: 0.5520 - val_aux_output_loss: 1.2697\n",
            "Epoch 2/20\n",
            "363/363 [==============================] - 2s 5ms/step - loss: 0.5925 - main_output_loss: 0.5230 - aux_output_loss: 1.2186 - val_loss: 0.6472 - val_main_output_loss: 0.5998 - val_aux_output_loss: 1.0738\n",
            "Epoch 3/20\n",
            "363/363 [==============================] - 2s 5ms/step - loss: 0.5619 - main_output_loss: 0.5108 - aux_output_loss: 1.0215 - val_loss: 0.5272 - val_main_output_loss: 0.4806 - val_aux_output_loss: 0.9462\n",
            "Epoch 4/20\n",
            "363/363 [==============================] - 2s 5ms/step - loss: 0.5028 - main_output_loss: 0.4611 - aux_output_loss: 0.8780 - val_loss: 0.5046 - val_main_output_loss: 0.4691 - val_aux_output_loss: 0.8242\n",
            "Epoch 5/20\n",
            "363/363 [==============================] - 2s 5ms/step - loss: 0.4821 - main_output_loss: 0.4499 - aux_output_loss: 0.7720 - val_loss: 0.4875 - val_main_output_loss: 0.4585 - val_aux_output_loss: 0.7486\n",
            "Epoch 6/20\n",
            "363/363 [==============================] - 2s 5ms/step - loss: 0.4660 - main_output_loss: 0.4392 - aux_output_loss: 0.7071 - val_loss: 0.4722 - val_main_output_loss: 0.4476 - val_aux_output_loss: 0.6939\n",
            "Epoch 7/20\n",
            "363/363 [==============================] - 2s 5ms/step - loss: 0.4547 - main_output_loss: 0.4319 - aux_output_loss: 0.6600 - val_loss: 0.4671 - val_main_output_loss: 0.4451 - val_aux_output_loss: 0.6653\n",
            "Epoch 8/20\n",
            "363/363 [==============================] - 2s 5ms/step - loss: 0.4521 - main_output_loss: 0.4309 - aux_output_loss: 0.6435 - val_loss: 0.4577 - val_main_output_loss: 0.4370 - val_aux_output_loss: 0.6438\n",
            "Epoch 9/20\n",
            "363/363 [==============================] - 2s 5ms/step - loss: 0.4579 - main_output_loss: 0.4404 - aux_output_loss: 0.6157 - val_loss: 0.4434 - val_main_output_loss: 0.4234 - val_aux_output_loss: 0.6238\n",
            "Epoch 10/20\n",
            "363/363 [==============================] - 2s 5ms/step - loss: 0.4291 - main_output_loss: 0.4101 - aux_output_loss: 0.6003 - val_loss: 0.4376 - val_main_output_loss: 0.4180 - val_aux_output_loss: 0.6143\n",
            "Epoch 11/20\n",
            "363/363 [==============================] - 2s 5ms/step - loss: 0.4237 - main_output_loss: 0.4052 - aux_output_loss: 0.5902 - val_loss: 0.4343 - val_main_output_loss: 0.4161 - val_aux_output_loss: 0.5980\n",
            "Epoch 12/20\n",
            "363/363 [==============================] - 2s 5ms/step - loss: 0.4113 - main_output_loss: 0.3937 - aux_output_loss: 0.5695 - val_loss: 0.4259 - val_main_output_loss: 0.4082 - val_aux_output_loss: 0.5859\n",
            "Epoch 13/20\n",
            "363/363 [==============================] - 2s 5ms/step - loss: 0.4066 - main_output_loss: 0.3897 - aux_output_loss: 0.5592 - val_loss: 0.4183 - val_main_output_loss: 0.4005 - val_aux_output_loss: 0.5784\n",
            "Epoch 14/20\n",
            "363/363 [==============================] - 2s 5ms/step - loss: 0.4050 - main_output_loss: 0.3890 - aux_output_loss: 0.5493 - val_loss: 0.4109 - val_main_output_loss: 0.3937 - val_aux_output_loss: 0.5656\n",
            "Epoch 15/20\n",
            "363/363 [==============================] - 2s 5ms/step - loss: 0.3987 - main_output_loss: 0.3833 - aux_output_loss: 0.5377 - val_loss: 0.4366 - val_main_output_loss: 0.4218 - val_aux_output_loss: 0.5706\n",
            "Epoch 16/20\n",
            "363/363 [==============================] - 2s 5ms/step - loss: 0.3915 - main_output_loss: 0.3759 - aux_output_loss: 0.5321 - val_loss: 0.3988 - val_main_output_loss: 0.3824 - val_aux_output_loss: 0.5464\n",
            "Epoch 17/20\n",
            "363/363 [==============================] - 2s 5ms/step - loss: 0.3848 - main_output_loss: 0.3696 - aux_output_loss: 0.5218 - val_loss: 0.3992 - val_main_output_loss: 0.3839 - val_aux_output_loss: 0.5367\n",
            "Epoch 18/20\n",
            "363/363 [==============================] - 2s 4ms/step - loss: 0.3774 - main_output_loss: 0.3626 - aux_output_loss: 0.5100 - val_loss: 0.3953 - val_main_output_loss: 0.3799 - val_aux_output_loss: 0.5337\n",
            "Epoch 19/20\n",
            "363/363 [==============================] - 2s 5ms/step - loss: 0.3763 - main_output_loss: 0.3620 - aux_output_loss: 0.5055 - val_loss: 0.3934 - val_main_output_loss: 0.3786 - val_aux_output_loss: 0.5262\n",
            "Epoch 20/20\n",
            "363/363 [==============================] - 2s 4ms/step - loss: 0.3690 - main_output_loss: 0.3548 - aux_output_loss: 0.4965 - val_loss: 0.3876 - val_main_output_loss: 0.3727 - val_aux_output_loss: 0.5215\n"
          ],
          "name": "stdout"
        }
      ]
    },
    {
      "cell_type": "markdown",
      "metadata": {
        "id": "ht-ykvlzlfeZ",
        "colab_type": "text"
      },
      "source": [
        "When we evaluate the model, Keras will return the total loss"
      ]
    },
    {
      "cell_type": "code",
      "metadata": {
        "id": "v_xfkOuylAMl",
        "colab_type": "code",
        "colab": {
          "base_uri": "https://localhost:8080/",
          "height": 34
        },
        "outputId": "aaffeb7d-301e-4a36-b705-e411c1d76764"
      },
      "source": [
        "total_loss, main_loss, aux_loss = model.evaluate(\n",
        "[X_test_A, X_test_B], [y_test, y_test])"
      ],
      "execution_count": 19,
      "outputs": [
        {
          "output_type": "stream",
          "text": [
            "162/162 [==============================] - 0s 3ms/step - loss: 0.3973 - main_output_loss: 0.3809 - aux_output_loss: 0.5453\n"
          ],
          "name": "stdout"
        }
      ]
    },
    {
      "cell_type": "code",
      "metadata": {
        "id": "hUl9Z1bVljSA",
        "colab_type": "code",
        "colab": {}
      },
      "source": [
        "y_pred_main, y_pred_aux = model.predict([X_new_A, X_new_B])"
      ],
      "execution_count": 0,
      "outputs": []
    },
    {
      "cell_type": "code",
      "metadata": {
        "id": "unxLiaRalpyk",
        "colab_type": "code",
        "colab": {
          "base_uri": "https://localhost:8080/",
          "height": 34
        },
        "outputId": "57c95d5e-fe02-4f19-8957-a8fe5542c058"
      },
      "source": [
        "y_test[0]"
      ],
      "execution_count": 21,
      "outputs": [
        {
          "output_type": "execute_result",
          "data": {
            "text/plain": [
              "1.775"
            ]
          },
          "metadata": {
            "tags": []
          },
          "execution_count": 21
        }
      ]
    },
    {
      "cell_type": "code",
      "metadata": {
        "id": "ZNm8uAvBltF_",
        "colab_type": "code",
        "colab": {
          "base_uri": "https://localhost:8080/",
          "height": 34
        },
        "outputId": "37b6febf-6aba-4e04-c824-b8d061e84e34"
      },
      "source": [
        "y_pred_main[0]"
      ],
      "execution_count": 22,
      "outputs": [
        {
          "output_type": "execute_result",
          "data": {
            "text/plain": [
              "array([1.9273801], dtype=float32)"
            ]
          },
          "metadata": {
            "tags": []
          },
          "execution_count": 22
        }
      ]
    },
    {
      "cell_type": "code",
      "metadata": {
        "id": "tCQ-hDXFlwuZ",
        "colab_type": "code",
        "colab": {
          "base_uri": "https://localhost:8080/",
          "height": 34
        },
        "outputId": "ef506df6-a42a-48e4-9361-190875d3605c"
      },
      "source": [
        " y_pred_aux[0]"
      ],
      "execution_count": 23,
      "outputs": [
        {
          "output_type": "execute_result",
          "data": {
            "text/plain": [
              "array([1.6562091], dtype=float32)"
            ]
          },
          "metadata": {
            "tags": []
          },
          "execution_count": 23
        }
      ]
    },
    {
      "cell_type": "code",
      "metadata": {
        "id": "Eq1NXbanlyoR",
        "colab_type": "code",
        "colab": {}
      },
      "source": [
        ""
      ],
      "execution_count": 0,
      "outputs": []
    }
  ]
}